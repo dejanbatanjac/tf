{
  "nbformat": 4,
  "nbformat_minor": 0,
  "metadata": {
    "colab": {
      "name": "colab ssh",
      "version": "0.3.2",
      "provenance": [],
      "collapsed_sections": [],
      "include_colab_link": true
    },
    "kernelspec": {
      "name": "python3",
      "display_name": "Python 3"
    },
    "accelerator": "GPU"
  },
  "cells": [
    {
      "cell_type": "markdown",
      "metadata": {
        "id": "view-in-github",
        "colab_type": "text"
      },
      "source": [
        "<a href=\"https://colab.research.google.com/github/dejanbatanjac/tf/blob/master/colab_ssh.ipynb\" target=\"_parent\"><img src=\"https://colab.research.google.com/assets/colab-badge.svg\" alt=\"Open In Colab\"/></a>"
      ]
    },
    {
      "metadata": {
        "id": "sCXfQsYeeqhb",
        "colab_type": "text"
      },
      "cell_type": "markdown",
      "source": [
        "# How to use SSH in Colab\n",
        "\n"
      ]
    },
    {
      "metadata": {
        "id": "rNYQ-8ye2i9b",
        "colab_type": "code",
        "outputId": "71d290e2-2883-410a-b4b4-b2a578f9fb19",
        "colab": {
          "base_uri": "https://localhost:8080/",
          "height": 92
        }
      },
      "cell_type": "code",
      "source": [
        "#Generate root password\n",
        "import random, string\n",
        "password = ''.join(random.choice(string.ascii_letters + string.digits) for i in range(20))\n",
        "\n",
        "#Download ngrok\n",
        "! wget -q -c -nc https://bin.equinox.io/c/4VmDzA7iaHb/ngrok-stable-linux-amd64.zip\n",
        "! unzip -qq -n ngrok-stable-linux-amd64.zip\n",
        "#Setup sshd\n",
        "! apt-get install -qq -o=Dpkg::Use-Pty=0 openssh-server pwgen > /dev/null\n",
        "#Set root password\n",
        "! echo root:$password | chpasswd\n",
        "! mkdir -p /var/run/sshd\n",
        "! echo \"PermitRootLogin yes\" >> /etc/ssh/sshd_config\n",
        "! echo \"PasswordAuthentication yes\" >> /etc/ssh/sshd_config\n",
        "! echo \"LD_LIBRARY_PATH=/usr/lib64-nvidia\" >> /root/.bashrc\n",
        "! echo \"export LD_LIBRARY_PATH\" >> /root/.bashrc\n",
        "\n",
        "#Run sshd\n",
        "get_ipython().system_raw('/usr/sbin/sshd -D &')\n",
        "\n",
        "#Ask token\n",
        "print(\"Copy authtoken from https://dashboard.ngrok.com/auth\")\n",
        "import getpass\n",
        "authtoken = getpass.getpass()\n",
        "\n",
        "#Create tunnel\n",
        "get_ipython().system_raw('./ngrok authtoken $authtoken && ./ngrok tcp 22 &')\n",
        "#Print root password\n",
        "print(\"Root password: {}\".format(password))\n",
        "#Get public address\n",
        "! curl -s http://localhost:4040/api/tunnels | python3 -c \\\n",
        "\"import sys, json; print(json.load(sys.stdin)['tunnels'][0]['public_url'])\""
      ],
      "execution_count": 1,
      "outputs": [
        {
          "output_type": "stream",
          "text": [
            "Copy authtoken from https://dashboard.ngrok.com/auth\n",
            "··········\n",
            "Root password: B1EkMwfG4alCR0u5UOGd\n",
            "tcp://0.tcp.ngrok.io:18393\n"
          ],
          "name": "stdout"
        }
      ]
    },
    {
      "metadata": {
        "id": "eD6YwkAK4tLl",
        "colab_type": "code",
        "outputId": "fe797df4-be8c-4995-9e20-0f88fd072797",
        "colab": {
          "base_uri": "https://localhost:8080/",
          "height": 111
        }
      },
      "cell_type": "code",
      "source": [
        "!service ssh status\n",
        "!ps -aux | grep ssh\n"
      ],
      "execution_count": 2,
      "outputs": [
        {
          "output_type": "stream",
          "text": [
            " * sshd is running\n",
            "root         604  0.0  0.0  95520  9860 ?        S    10:47   0:00 /usr/sbin/sshd -D\n",
            "root         982  0.0  0.0 124720 10600 ?        Ss   12:23   0:00 sshd: root@pts/0\n",
            "root        1041  0.0  0.0  39196  6428 ?        S    12:24   0:00 /bin/bash -c ps -aux | grep ssh\n",
            "root        1043  0.0  0.0  38568  4900 ?        S    12:24   0:00 grep ssh\n"
          ],
          "name": "stdout"
        }
      ]
    },
    {
      "metadata": {
        "id": "-PfH978s6Bsn",
        "colab_type": "code",
        "colab": {
          "base_uri": "https://localhost:8080/",
          "height": 2377
        },
        "outputId": "2a5f1d70-8196-4711-bba4-3992ffd3e8bc"
      },
      "cell_type": "code",
      "source": [
        "!cat /etc/ssh/sshd_config"
      ],
      "execution_count": 3,
      "outputs": [
        {
          "output_type": "stream",
          "text": [
            "#\t$OpenBSD: sshd_config,v 1.101 2017/03/14 07:19:07 djm Exp $\n",
            "\n",
            "# This is the sshd server system-wide configuration file.  See\n",
            "# sshd_config(5) for more information.\n",
            "\n",
            "# This sshd was compiled with PATH=/usr/bin:/bin:/usr/sbin:/sbin\n",
            "\n",
            "# The strategy used for options in the default sshd_config shipped with\n",
            "# OpenSSH is to specify options with their default value where\n",
            "# possible, but leave them commented.  Uncommented options override the\n",
            "# default value.\n",
            "\n",
            "#Port 22\n",
            "#AddressFamily any\n",
            "#ListenAddress 0.0.0.0\n",
            "#ListenAddress ::\n",
            "\n",
            "#HostKey /etc/ssh/ssh_host_rsa_key\n",
            "#HostKey /etc/ssh/ssh_host_ecdsa_key\n",
            "#HostKey /etc/ssh/ssh_host_ed25519_key\n",
            "\n",
            "# Ciphers and keying\n",
            "#RekeyLimit default none\n",
            "\n",
            "# Logging\n",
            "#SyslogFacility AUTH\n",
            "#LogLevel INFO\n",
            "\n",
            "# Authentication:\n",
            "\n",
            "#LoginGraceTime 2m\n",
            "#PermitRootLogin prohibit-password\n",
            "#StrictModes yes\n",
            "#MaxAuthTries 6\n",
            "#MaxSessions 10\n",
            "\n",
            "#PubkeyAuthentication yes\n",
            "\n",
            "# Expect .ssh/authorized_keys2 to be disregarded by default in future.\n",
            "#AuthorizedKeysFile\t.ssh/authorized_keys .ssh/authorized_keys2\n",
            "\n",
            "#AuthorizedPrincipalsFile none\n",
            "\n",
            "#AuthorizedKeysCommand none\n",
            "#AuthorizedKeysCommandUser nobody\n",
            "\n",
            "# For this to work you will also need host keys in /etc/ssh/ssh_known_hosts\n",
            "#HostbasedAuthentication no\n",
            "# Change to yes if you don't trust ~/.ssh/known_hosts for\n",
            "# HostbasedAuthentication\n",
            "#IgnoreUserKnownHosts no\n",
            "# Don't read the user's ~/.rhosts and ~/.shosts files\n",
            "#IgnoreRhosts yes\n",
            "\n",
            "# To disable tunneled clear text passwords, change to no here!\n",
            "#PasswordAuthentication yes\n",
            "#PermitEmptyPasswords no\n",
            "\n",
            "# Change to yes to enable challenge-response passwords (beware issues with\n",
            "# some PAM modules and threads)\n",
            "ChallengeResponseAuthentication no\n",
            "\n",
            "# Kerberos options\n",
            "#KerberosAuthentication no\n",
            "#KerberosOrLocalPasswd yes\n",
            "#KerberosTicketCleanup yes\n",
            "#KerberosGetAFSToken no\n",
            "\n",
            "# GSSAPI options\n",
            "#GSSAPIAuthentication no\n",
            "#GSSAPICleanupCredentials yes\n",
            "#GSSAPIStrictAcceptorCheck yes\n",
            "#GSSAPIKeyExchange no\n",
            "\n",
            "# Set this to 'yes' to enable PAM authentication, account processing,\n",
            "# and session processing. If this is enabled, PAM authentication will\n",
            "# be allowed through the ChallengeResponseAuthentication and\n",
            "# PasswordAuthentication.  Depending on your PAM configuration,\n",
            "# PAM authentication via ChallengeResponseAuthentication may bypass\n",
            "# the setting of \"PermitRootLogin without-password\".\n",
            "# If you just want the PAM account and session checks to run without\n",
            "# PAM authentication, then enable this but set PasswordAuthentication\n",
            "# and ChallengeResponseAuthentication to 'no'.\n",
            "UsePAM yes\n",
            "\n",
            "#AllowAgentForwarding yes\n",
            "#AllowTcpForwarding yes\n",
            "#GatewayPorts no\n",
            "X11Forwarding yes\n",
            "#X11DisplayOffset 10\n",
            "#X11UseLocalhost yes\n",
            "#PermitTTY yes\n",
            "PrintMotd no\n",
            "#PrintLastLog yes\n",
            "#TCPKeepAlive yes\n",
            "#UseLogin no\n",
            "#PermitUserEnvironment no\n",
            "#Compression delayed\n",
            "#ClientAliveInterval 0\n",
            "#ClientAliveCountMax 3\n",
            "#UseDNS no\n",
            "#PidFile /var/run/sshd.pid\n",
            "#MaxStartups 10:30:100\n",
            "#PermitTunnel no\n",
            "#ChrootDirectory none\n",
            "#VersionAddendum none\n",
            "\n",
            "# no default banner path\n",
            "#Banner none\n",
            "\n",
            "# Allow client to pass locale environment variables\n",
            "AcceptEnv LANG LC_*\n",
            "\n",
            "# override default of no subsystems\n",
            "Subsystem\tsftp\t/usr/lib/openssh/sftp-server\n",
            "\n",
            "# Example of overriding settings on a per-user basis\n",
            "#Match User anoncvs\n",
            "#\tX11Forwarding no\n",
            "#\tAllowTcpForwarding no\n",
            "#\tPermitTTY no\n",
            "#\tForceCommand cvs server\n",
            "PermitRootLogin yes\n",
            "PasswordAuthentication yes\n",
            "PermitRootLogin yes\n",
            "PasswordAuthentication yes\n"
          ],
          "name": "stdout"
        }
      ]
    }
  ]
}